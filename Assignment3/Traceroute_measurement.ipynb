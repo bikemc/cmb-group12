{
 "cells": [
  {
   "cell_type": "code",
   "execution_count": 1,
   "id": "1e5cc11b",
   "metadata": {},
   "outputs": [],
   "source": [
    "import requests\n",
    "import matplotlib.pyplot as plt"
   ]
  },
  {
   "cell_type": "code",
   "execution_count": 2,
   "id": "abd95bdc",
   "metadata": {},
   "outputs": [],
   "source": [
    "#function to retrieve data from atlas RIPE\n",
    "def getResult(id):\n",
    "    url_path = \"https://atlas.ripe.net/api/v2/measurements/{mId}/results\".format(mId=id)\n",
    "    resp = requests.get(url=url_path)\n",
    "    data = resp.json()\n",
    "    return data"
   ]
  },
  {
   "cell_type": "code",
   "execution_count": 3,
   "id": "733318a9",
   "metadata": {},
   "outputs": [],
   "source": [
    "# ids for all the traceroute measurements\n",
    "ids = {\n",
    "    '50089762': {'host': 'us-east-1.ec2.cloudharmony.net', 'type': 'wifi'},\n",
    "    '50089761': {'host': 'asia-east.azure.cloudharmony.net', 'type': 'wifi'},\n",
    "    '50089760': {'host': 'asia-east2.gce.cloudharmony.net', 'type': 'wifi'},\n",
    "    '50089759': {'host': 'ap-east-1.ec2.cloudharmony.net', 'type': 'wifi'},\n",
    "    '50089758': {'host': 'uk-south.azure.cloudharmony.net', 'type': 'wifi'},\n",
    "    '50089757': {'host': 'europe-west2.gce.cloudharmony.net', 'type': 'wifi'},\n",
    "    '50089756': {'host': 'eu-west-2.ec2.cloudharmony.net', 'type': 'wifi'},\n",
    "    '50089755': {'host': 'brazil-south.azure.cloudharmony.net', 'type': 'wifi'},\n",
    "    '50089754': {'host': 'us-east.azure.cloudharmony.net', 'type': 'wifi'},\n",
    "    '50089753': {'host': 'us-east4.gce.cloudharmony.net', 'type': 'wifi'},\n",
    "    '50089752': {'host': 'australia-east.azure.cloudharmony.net', 'type': 'wifi'},\n",
    "    '50089799': {'host': 'us-east-1.ec2.cloudharmony.net', 'type': 'lan'},\n",
    "    '50089798': {'host': 'asia-east.azure.cloudharmony.net', 'type': 'lan'},\n",
    "    '50089797': {'host': 'asia-east2.gce.cloudharmony.net', 'type': 'lan'},\n",
    "    '50089796': {'host': 'ap-east-1.ec2.cloudharmony.net', 'type': 'lan'},\n",
    "    '50089795': {'host': 'uk-south.azure.cloudharmony.net', 'type': 'lan'},\n",
    "    '50089794': {'host': 'europe-west2.gce.cloudharmony.net', 'type': 'lan'},\n",
    "    '50089793': {'host': 'eu-west-2.ec2.cloudharmony.net', 'type': 'lan'},\n",
    "    '50089792': {'host': 'brazil-south.azure.cloudharmony.net', 'type': 'lan'},\n",
    "    '50089791': {'host': 'us-east.azure.cloudharmony.net', 'type': 'lan'},\n",
    "    '50089790': {'host': 'us-east4.gce.cloudharmony.net', 'type': 'lan'},\n",
    "    '50089789': {'host': 'australia-east.azure.cloudharmony.net', 'type': 'lan'},\n",
    "    '50089732': {'host': 'us-east-1.ec2.cloudharmony.net', 'type': 'cellular'},\n",
    "    '50089731': {'host': 'asia-east.azure.cloudharmony.net', 'type': 'cellular'},\n",
    "    '50089730': {'host': 'asia-east2.gce.cloudharmony.net', 'type': 'cellular'},\n",
    "    '50089729': {'host': 'ap-east-1.ec2.cloudharmony.net', 'type': 'cellular'},\n",
    "    '50089728': {'host': 'uk-south.azure.cloudharmony.net', 'type': 'cellular'},\n",
    "    '50089727': {'host': 'europe-west2.gce.cloudharmony.net', 'type': 'cellular'},\n",
    "    '50089726': {'host': 'eu-west-2.ec2.cloudharmony.net', 'type': 'cellular'},\n",
    "    '50089725': {'host': 'brazil-south.azure.cloudharmony.net', 'type': 'cellular'},\n",
    "    '50089724': {'host': 'us-east.azure.cloudharmony.net', 'type': 'cellular'},\n",
    "    '50089723': {'host': 'us-east4.gce.cloudharmony.net', 'type': 'cellular'},\n",
    "    '50089722': {'host': 'australia-east.azure.cloudharmony.net', 'type': 'cellular'},\n",
    "    '50089702': {'host': 'us-east-1.ec2.cloudharmony.net', 'type': 'satellite'},\n",
    "    '50089701': {'host': 'asia-east.azure.cloudharmony.net', 'type': 'satellite'},\n",
    "    '50089700': {'host': 'asia-east2.gce.cloudharmony.net', 'type': 'satellite'},\n",
    "    '50089699': {'host': 'ap-east-1.ec2.cloudharmony.net', 'type': 'satellite'},\n",
    "    '50089698': {'host': 'uk-south.azure.cloudharmony.net', 'type': 'satellite'},\n",
    "    '50089697': {'host': 'europe-west2.gce.cloudharmony.net', 'type': 'satellite'},\n",
    "    '50089696': {'host': 'eu-west-2.ec2.cloudharmony.net', 'type': 'satellite'},\n",
    "    '50089695': {'host': 'brazil-south.azure.cloudharmony.net', 'type': 'satellite'},\n",
    "    '50089694': {'host': 'us-east.azure.cloudharmony.net', 'type': 'satellite'},\n",
    "    '50089693': {'host': 'us-east4.gce.cloudharmony.net', 'type': 'satellite'},\n",
    "    '50089692': {'host': 'australia-east.azure.cloudharmony.net', 'type': 'satellite'},\n",
    "}"
   ]
  },
  {
   "cell_type": "code",
   "execution_count": 4,
   "id": "3a86115f",
   "metadata": {},
   "outputs": [],
   "source": [
    "data_centers = {\n",
    "    'australia-east.azure.cloudharmony.net': ('Microsoft', 'OC', 'AU', 'Sydney', -33.8591, 151.2002),\n",
    "    'brazil-south.azure.cloudharmony.net': ('Microsoft', 'SA', 'BR', 'Campinas', -22.9035, -47.0565),\n",
    "    'eu-west-2.ec2.cloudharmony.net': ('Amazon EC2', 'EU', 'GB', 'London', 51.5164, -0.093),\n",
    "    'europe-west2.gce.cloudharmony.net': ('Google', 'EU', 'GB', None, 51.5164, -0.093),\n",
    "    'uk-south.azure.cloudharmony.net': ('Microsoft', 'EU', 'GB', 'London', 51.5164, -0.093),\n",
    "    'ap-east-1.ec2.cloudharmony.net': ('Amazon EC2', 'AS', 'HK', 'Hong Kong', 22.25, 114.1667),\n",
    "    'asia-east2.gce.cloudharmony.net': ('Google', 'AS', 'HK', 'Central', 22.2795, 114.146),\n",
    "    'asia-east.azure.cloudharmony.net': ('Microsoft', 'AS', 'HK', 'Central', 22.2795, 114.146),\n",
    "    'us-east-1.ec2.cloudharmony.net': ('Amazon EC2', 'NA', 'US', 'Ashburn', 39.0481, -77.4728),\n",
    "    'us-east4.gce.cloudharmony.net': ('Google', 'NA', 'US', 'Washington', 38.8939, -77.0365),\n",
    "    'us-east.azure.cloudharmony.net': ('Microsoft', 'NA', 'US', 'Washington', 38.7095, -78.1539),\n",
    "}"
   ]
  },
  {
   "cell_type": "code",
   "execution_count": 5,
   "id": "319e9066",
   "metadata": {},
   "outputs": [],
   "source": [
    "# get all the results\n",
    "allResults = {}\n",
    "for id in ids:\n",
    "    if ids[id][\"type\"] in allResults:\n",
    "        allResults[ids[id][\"type\"]][ids[id][\"host\"]] = getResult(id)\n",
    "    else:\n",
    "        mid_Result = {}\n",
    "        mid_Result[ids[id][\"host\"]] = getResult(id)\n",
    "        allResults[ids[id][\"type\"]] = mid_Result"
   ]
  },
  {
   "cell_type": "code",
   "execution_count": 6,
   "id": "f105a29b",
   "metadata": {},
   "outputs": [
    {
     "name": "stdout",
     "output_type": "stream",
     "text": [
      "DIFFERENT 10.203.36.73 10.203.190.2 pId 27411 Type: cellular host us-east-1.ec2.cloudharmony.net hop 6\n",
      "DIFFERENT 10.203.36.73 10.203.190.2 pId 27411 Type: cellular host us-east-1.ec2.cloudharmony.net hop 6\n",
      "DIFFERENT 10.203.36.73 10.203.190.2 pId 27411 Type: cellular host us-east-1.ec2.cloudharmony.net hop 6\n",
      "DIFFERENT 10.203.36.73 10.203.190.2 pId 27411 Type: cellular host us-east-1.ec2.cloudharmony.net hop 6\n",
      "DIFFERENT 10.203.36.73 10.203.190.2 pId 27411 Type: cellular host us-east-1.ec2.cloudharmony.net hop 6\n",
      "DIFFERENT 10.203.36.73 10.203.190.2 pId 27411 Type: cellular host asia-east.azure.cloudharmony.net hop 6\n",
      "DIFFERENT 10.203.36.73 10.203.190.2 pId 27411 Type: cellular host asia-east.azure.cloudharmony.net hop 6\n",
      "DIFFERENT 10.203.36.73 10.203.190.2 pId 27411 Type: cellular host asia-east.azure.cloudharmony.net hop 6\n",
      "DIFFERENT 10.203.36.73 10.203.190.2 pId 27411 Type: cellular host asia-east.azure.cloudharmony.net hop 6\n",
      "DIFFERENT 10.203.36.73 10.203.190.2 pId 27411 Type: cellular host asia-east.azure.cloudharmony.net hop 6\n",
      "DIFFERENT 10.81.7.57 10.81.85.22 pId 1004571 Type: cellular host asia-east.azure.cloudharmony.net hop 3\n",
      "DIFFERENT 10.203.36.73 10.203.190.2 pId 27411 Type: cellular host asia-east2.gce.cloudharmony.net hop 6\n",
      "DIFFERENT 10.203.36.73 10.203.190.2 pId 27411 Type: cellular host asia-east2.gce.cloudharmony.net hop 6\n",
      "DIFFERENT 10.203.36.73 10.203.190.2 pId 27411 Type: cellular host asia-east2.gce.cloudharmony.net hop 6\n",
      "DIFFERENT 10.203.36.73 10.203.190.2 pId 27411 Type: cellular host asia-east2.gce.cloudharmony.net hop 6\n",
      "DIFFERENT 10.203.36.73 10.203.190.2 pId 27411 Type: cellular host asia-east2.gce.cloudharmony.net hop 6\n",
      "DIFFERENT 10.203.36.73 10.203.190.2 pId 27411 Type: cellular host ap-east-1.ec2.cloudharmony.net hop 6\n",
      "DIFFERENT 10.203.36.73 10.203.190.2 pId 27411 Type: cellular host ap-east-1.ec2.cloudharmony.net hop 6\n",
      "DIFFERENT 10.203.36.73 10.203.190.2 pId 27411 Type: cellular host ap-east-1.ec2.cloudharmony.net hop 6\n",
      "DIFFERENT 54.240.241.20 54.240.241.232 pId 1004821 Type: cellular host ap-east-1.ec2.cloudharmony.net hop 22\n",
      "DIFFERENT 10.203.36.73 10.203.190.2 pId 27411 Type: cellular host uk-south.azure.cloudharmony.net hop 6\n",
      "DIFFERENT 10.203.36.73 10.203.190.2 pId 27411 Type: cellular host uk-south.azure.cloudharmony.net hop 6\n",
      "DIFFERENT 10.203.36.73 10.203.190.2 pId 27411 Type: cellular host uk-south.azure.cloudharmony.net hop 6\n",
      "DIFFERENT 10.203.36.73 10.203.190.2 pId 27411 Type: cellular host uk-south.azure.cloudharmony.net hop 6\n",
      "DIFFERENT 10.203.36.73 10.203.190.2 pId 27411 Type: cellular host europe-west2.gce.cloudharmony.net hop 6\n",
      "DIFFERENT 10.203.36.73 10.203.190.2 pId 27411 Type: cellular host europe-west2.gce.cloudharmony.net hop 6\n",
      "DIFFERENT 10.203.36.73 10.203.190.2 pId 27411 Type: cellular host europe-west2.gce.cloudharmony.net hop 6\n",
      "DIFFERENT 10.203.36.73 10.203.190.2 pId 27411 Type: cellular host europe-west2.gce.cloudharmony.net hop 6\n",
      "DIFFERENT 10.203.36.73 10.203.190.2 pId 27411 Type: cellular host eu-west-2.ec2.cloudharmony.net hop 6\n",
      "DIFFERENT 10.203.36.73 10.203.190.2 pId 27411 Type: cellular host eu-west-2.ec2.cloudharmony.net hop 6\n",
      "DIFFERENT 10.203.36.73 10.203.190.2 pId 27411 Type: cellular host eu-west-2.ec2.cloudharmony.net hop 6\n",
      "DIFFERENT 10.203.36.73 10.203.190.2 pId 27411 Type: cellular host eu-west-2.ec2.cloudharmony.net hop 6\n",
      "DIFFERENT 10.203.36.73 10.203.190.2 pId 27411 Type: cellular host brazil-south.azure.cloudharmony.net hop 6\n",
      "DIFFERENT 10.203.36.73 10.203.190.2 pId 27411 Type: cellular host brazil-south.azure.cloudharmony.net hop 6\n",
      "DIFFERENT 10.203.36.73 10.203.190.2 pId 27411 Type: cellular host brazil-south.azure.cloudharmony.net hop 6\n",
      "DIFFERENT 10.203.36.73 10.203.190.2 pId 27411 Type: cellular host brazil-south.azure.cloudharmony.net hop 6\n",
      "DIFFERENT 10.203.36.73 10.203.190.2 pId 27411 Type: cellular host brazil-south.azure.cloudharmony.net hop 6\n",
      "DIFFERENT 10.203.36.73 10.203.190.2 pId 27411 Type: cellular host us-east.azure.cloudharmony.net hop 6\n",
      "DIFFERENT 10.203.36.73 10.203.190.2 pId 27411 Type: cellular host us-east.azure.cloudharmony.net hop 6\n",
      "DIFFERENT 10.203.36.73 10.203.190.2 pId 27411 Type: cellular host us-east.azure.cloudharmony.net hop 6\n",
      "DIFFERENT 10.203.36.73 10.203.190.2 pId 27411 Type: cellular host us-east.azure.cloudharmony.net hop 6\n",
      "DIFFERENT 10.81.7.61 10.81.85.22 pId 1004571 Type: cellular host us-east.azure.cloudharmony.net hop 3\n",
      "DIFFERENT 10.81.7.61 10.81.85.22 pId 1004571 Type: cellular host us-east.azure.cloudharmony.net hop 3\n",
      "DIFFERENT 10.203.36.73 10.203.190.2 pId 27411 Type: cellular host us-east4.gce.cloudharmony.net hop 6\n",
      "DIFFERENT 10.203.36.73 10.203.190.2 pId 27411 Type: cellular host us-east4.gce.cloudharmony.net hop 6\n",
      "DIFFERENT 10.203.36.73 10.203.190.2 pId 27411 Type: cellular host us-east4.gce.cloudharmony.net hop 6\n",
      "DIFFERENT 10.203.36.73 10.203.190.2 pId 27411 Type: cellular host us-east4.gce.cloudharmony.net hop 6\n",
      "DIFFERENT 10.203.36.73 10.203.190.2 pId 27411 Type: cellular host australia-east.azure.cloudharmony.net hop 6\n",
      "DIFFERENT 10.203.36.73 10.203.190.2 pId 27411 Type: cellular host australia-east.azure.cloudharmony.net hop 6\n",
      "DIFFERENT 10.203.36.73 10.203.190.2 pId 27411 Type: cellular host australia-east.azure.cloudharmony.net hop 6\n",
      "DIFFERENT 104.44.28.208 104.44.28.184 pId 1001356 Type: satellite host australia-east.azure.cloudharmony.net hop 13\n"
     ]
    }
   ],
   "source": [
    "# turn all the results in the form \n",
    "# {\"Network Techonology\":\n",
    "#    {\"Probe_Id:\"\n",
    "#       [\n",
    "#         {\"datacenter_1\": Result}\n",
    "#         {\"datacenter_2\": Result}\n",
    "#            *\n",
    "#            *\n",
    "#            *\n",
    "#      ]\n",
    "#    }\n",
    "#  }\n",
    "orderedRes = {}\n",
    "for NetType in allResults:\n",
    "    for host in allResults[NetType]:\n",
    "        for probe in allResults[NetType][host]:\n",
    "            probe_info_list = []\n",
    "            if \"result\" in probe:\n",
    "                for res in probe[\"result\"]:\n",
    "                    av_rtt = 0\n",
    "                    rtt_count = 0\n",
    "                    addr = \"\"\n",
    "                    if \"result\" in res:\n",
    "                        for hop in res[\"result\"]:\n",
    "                            if not \"x\" in hop:\n",
    "                                if \"rtt\" in hop:\n",
    "                                    av_rtt += hop[\"rtt\"]\n",
    "                                    rtt_count += 1\n",
    "                                    if addr == \"\":\n",
    "                                        addr = hop[\"from\"]\n",
    "                                    else:\n",
    "                                        if addr != hop[\"from\"]:\n",
    "                                            print(\"DIFFERENT\", addr,hop[\"from\"], \"pId\", probe[\"prb_id\"],\"Type:\",NetType,\"host\",host,\"hop\",res[\"hop\"])\n",
    "                        if rtt_count > 0:\n",
    "                            probe_info_list.append({\"hop\":res[\"hop\"],\"from\": addr, \"rtt\": av_rtt/rtt_count, \"lossPer\":1 - (rtt_count/5)})\n",
    "                        else:\n",
    "                            probe_info_list.append({\"hop\":res[\"hop\"],\"from\": \"x\", \"rtt\": \"*\", \"lossPer\":1})\n",
    "                if not NetType in orderedRes:\n",
    "                    orderedRes[NetType] = dict({probe[\"prb_id\"]:dict({host: probe_info_list})})\n",
    "                else:\n",
    "                    if not probe[\"prb_id\"] in orderedRes[NetType]:\n",
    "                        orderedRes[NetType].update( dict({probe[\"prb_id\"]: dict({host: probe_info_list})}) )\n",
    "                    else:\n",
    "                        orderedRes[NetType][probe[\"prb_id\"]].update(dict({host: probe_info_list}))\n",
    "                "
   ]
  },
  {
   "cell_type": "code",
   "execution_count": 7,
   "id": "d9f475e9",
   "metadata": {},
   "outputs": [
    {
     "name": "stdout",
     "output_type": "stream",
     "text": [
      "17\n",
      "4\n",
      "10\n"
     ]
    }
   ],
   "source": [
    "## function to check whether route to different datacenters located in the same place is the same\n",
    "eu_dc = ['eu-west-2.ec2.cloudharmony.net','europe-west2.gce.cloudharmony.net','uk-south.azure.cloudharmony.net']\n",
    "us_dc = ['us-east-1.ec2.cloudharmony.net','us-east4.gce.cloudharmony.net','us-east.azure.cloudharmony.net']\n",
    "as_dc = ['ap-east-1.ec2.cloudharmony.net','asia-east2.gce.cloudharmony.net','asia-east.azure.cloudharmony.net']\n",
    "dcs = [eu_dc,us_dc,as_dc]\n",
    "for type in orderedRes:\n",
    "    for probe in orderedRes[type]:\n",
    "        for dcset in dcs:\n",
    "            for dc in dcset:\n",
    "                print(len(orderedRes[type][probe][dc]))\n",
    "            break\n",
    "        break\n",
    "    break"
   ]
  },
  {
   "cell_type": "code",
   "execution_count": 8,
   "id": "d46b8863",
   "metadata": {},
   "outputs": [],
   "source": [
    "## take an example probe located in Switzerland to show route difference\n",
    "probe_id = 60\n",
    "hop = {eu_dc[0]: [], eu_dc[1]: [],eu_dc[2]: []}\n",
    "rtt = {eu_dc[0]: [], eu_dc[1]: [],eu_dc[2]: []}\n",
    "for dc in eu_dc:\n",
    "    for step in orderedRes[\"lan\"][probe_id][dc]:\n",
    "        if step[\"rtt\"] == \"*\":\n",
    "            rtt[dc].append(0)\n",
    "        else :\n",
    "            rtt[dc].append(step[\"rtt\"])\n",
    "        if step[\"from\"] == \"x\":\n",
    "            hop[dc].append(\"***\")\n",
    "        else:\n",
    "            hop[dc].append(step[\"from\"])\n"
   ]
  },
  {
   "cell_type": "code",
   "execution_count": 9,
   "id": "72eaa51a",
   "metadata": {},
   "outputs": [
    {
     "data": {
      "image/png": "[encoded data removed]",
      "text/plain": [
       "<Figure size 432x288 with 1 Axes>"
      ]
     },
     "metadata": {
      "needs_background": "light"
     },
     "output_type": "display_data"
    },
    {
     "name": "stdout",
     "output_type": "stream",
     "text": [
      "Traceroute from a probe in CH to eu-west-2.ec2.cloudharmony.net.png\n"
     ]
    }
   ],
   "source": [
    "plt.barh(hop[eu_dc[0]],rtt[eu_dc[0]],color=\"cyan\")\n",
    "plt.title(\"Traceroute from a probe in CH to \" + eu_dc[0])\n",
    "plt.xlabel(\"RTT\")\n",
    "plt.ylabel(\"Hop IPs\")\n",
    "plt.show()\n",
    "print(\"Traceroute from a probe in CH to \" + eu_dc[0] + \".png\")"
   ]
  },
  {
   "cell_type": "code",
   "execution_count": 10,
   "id": "9c2fb402",
   "metadata": {},
   "outputs": [
    {
     "data": {
      "image/png": "[encoded data removed]",
      "text/plain": [
       "<Figure size 432x288 with 1 Axes>"
      ]
     },
     "metadata": {
      "needs_background": "light"
     },
     "output_type": "display_data"
    },
    {
     "name": "stdout",
     "output_type": "stream",
     "text": [
      "Traceroute from a probe in CH to europe-west2.gce.cloudharmony.net.png\n"
     ]
    }
   ],
   "source": [
    "plt.barh(hop[eu_dc[1]],rtt[eu_dc[1]],color=\"cyan\")\n",
    "plt.title(\"Traceroute from a probe in CH to \" + eu_dc[1])\n",
    "plt.xlabel(\"RTT\")\n",
    "plt.ylabel(\"Hop IP's\")\n",
    "plt.show()\n",
    "print(\"Traceroute from a probe in CH to \" + eu_dc[1] + \".png\")"
   ]
  },
  {
   "cell_type": "code",
   "execution_count": 11,
   "id": "e4f55acb",
   "metadata": {},
   "outputs": [
    {
     "data": {
      "image/png": "[encoded data removed]",
      "text/plain": [
       "<Figure size 432x288 with 1 Axes>"
      ]
     },
     "metadata": {
      "needs_background": "light"
     },
     "output_type": "display_data"
    },
    {
     "name": "stdout",
     "output_type": "stream",
     "text": [
      "Traceroute from a probe in CH to uk-south.azure.cloudharmony.net.png\n"
     ]
    }
   ],
   "source": [
    "plt.barh(hop[eu_dc[2]],rtt[eu_dc[2]],color=\"cyan\")\n",
    "plt.title(\"Traceroute from a probe in CH to \" + eu_dc[2])\n",
    "plt.xlabel(\"RTT\")\n",
    "plt.ylabel(\"Hop IPs\")\n",
    "plt.show()\n",
    "print(\"Traceroute from a probe in CH to \" + eu_dc[2] + \".png\")"
   ]
  },
  {
   "cell_type": "code",
   "execution_count": null,
   "id": "3f9e22a1",
   "metadata": {},
   "outputs": [],
   "source": []
  }
 ],
 "metadata": {
  "kernelspec": {
   "display_name": "Python 3 (ipykernel)",
   "language": "python",
   "name": "python3"
  },
  "language_info": {
   "codemirror_mode": {
    "name": "ipython",
    "version": 3
   },
   "file_extension": ".py",
   "mimetype": "text/x-python",
   "name": "python",
   "nbconvert_exporter": "python",
   "pygments_lexer": "ipython3",
   "version": "3.9.13"
  }
 },
 "nbformat": 4,
 "nbformat_minor": 5
}
