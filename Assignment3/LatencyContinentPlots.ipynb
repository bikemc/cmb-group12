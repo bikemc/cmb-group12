{
 "cells": [
  {
   "cell_type": "code",
   "execution_count": 1,
   "id": "d4673ea9",
   "metadata": {},
   "outputs": [],
   "source": [
    "import json\n",
    "import numpy as np\n",
    "import requests"
   ]
  },
  {
   "cell_type": "code",
   "execution_count": 2,
   "id": "9693dd22",
   "metadata": {},
   "outputs": [],
   "source": [
    "ids = {\n",
    "    '49936078': {'host': 'us-east-1.ec2.cloudharmony.net', 'type': 'wifi'},\n",
    "    '49936077': {'host': 'asia-east.azure.cloudharmony.net', 'type': 'wifi'},\n",
    "    '49936076': {'host': 'asia-east2.gce.cloudharmony.net', 'type': 'wifi'},\n",
    "    '49936075': {'host': 'ap-east-1.ec2.cloudharmony.net', 'type': 'wifi'},\n",
    "    '49936074': {'host': 'uk-south.azure.cloudharmony.net', 'type': 'wifi'},\n",
    "    '49936073': {'host': 'europe-west2.gce.cloudharmony.net', 'type': 'wifi'},\n",
    "    '49936072': {'host': 'eu-west-2.ec2.cloudharmony.net', 'type': 'wifi'},\n",
    "    '49936071': {'host': 'brazil-south.azure.cloudharmony.net', 'type': 'wifi'},\n",
    "    '49936070': {'host': 'us-east.azure.cloudharmony.net', 'type': 'wifi'},\n",
    "    '49936069': {'host': 'us-east4.gce.cloudharmony.net', 'type': 'wifi'},\n",
    "    '49936068': {'host': 'australia-east.azure.cloudharmony.net', 'type': 'wifi'},\n",
    "    '49936004': {'host': 'us-east-1.ec2.cloudharmony.net', 'type': 'lan'},\n",
    "    '49936003': {'host': 'asia-east.azure.cloudharmony.net', 'type': 'lan'},\n",
    "    '49936002': {'host': 'asia-east2.gce.cloudharmony.net', 'type': 'lan'},\n",
    "    '49936001': {'host': 'ap-east-1.ec2.cloudharmony.net', 'type': 'lan'},\n",
    "    '49936000': {'host': 'uk-south.azure.cloudharmony.net', 'type': 'lan'},\n",
    "    '49935999': {'host': 'europe-west2.gce.cloudharmony.net', 'type': 'lan'},\n",
    "    '49935998': {'host': 'eu-west-2.ec2.cloudharmony.net', 'type': 'lan'},\n",
    "    '49935997': {'host': 'brazil-south.azure.cloudharmony.net', 'type': 'lan'},\n",
    "    '49935996': {'host': 'australia-east.azure.cloudharmony.net', 'type': 'lan'},\n",
    "    '49935995': {'host': 'us-east.azure.cloudharmony.net', 'type': 'lan'},\n",
    "    '49935994': {'host': 'us-east4.gce.cloudharmony.net', 'type': 'lan'},\n",
    "    '49936174': {'host': 'us-east-1.ec2.cloudharmony.net', 'type': 'cellular'},\n",
    "    '49936173': {'host': 'asia-east.azure.cloudharmony.net', 'type': 'cellular'},\n",
    "    '49936172': {'host': 'asia-east2.gce.cloudharmony.net', 'type': 'cellular'},\n",
    "    '49936171': {'host': 'ap-east-1.ec2.cloudharmony.net', 'type': 'cellular'},\n",
    "    '49936170': {'host': 'uk-south.azure.cloudharmony.net', 'type': 'cellular'},\n",
    "    '49936169': {'host': 'europe-west2.gce.cloudharmony.net', 'type': 'cellular'},\n",
    "    '49936168': {'host': 'eu-west-2.ec2.cloudharmony.net', 'type': 'cellular'},\n",
    "    '49936167': {'host': 'brazil-south.azure.cloudharmony.net', 'type': 'cellular'},\n",
    "    '49936166': {'host': 'us-east.azure.cloudharmony.net', 'type': 'cellular'},\n",
    "    '49936165': {'host': 'us-east4.gce.cloudharmony.net', 'type': 'cellular'},\n",
    "    '49936164': {'host': 'australia-east.azure.cloudharmony.net', 'type': 'cellular'},\n",
    "    '49936331': {'host': 'asia-east.azure.cloudharmony.net', 'type': 'satellite'},\n",
    "    '49936330': {'host': 'asia-east2.gce.cloudharmony.net', 'type': 'satellite'},\n",
    "    '49936329': {'host': 'ap-east-1.ec2.cloudharmony.net', 'type': 'satellite'},\n",
    "    '49936328': {'host': 'uk-south.azure.cloudharmony.net', 'type': 'satellite'},\n",
    "    '49936327': {'host': 'europe-west2.gce.cloudharmony.net', 'type': 'satellite'},\n",
    "    '49936326': {'host': 'eu-west-2.ec2.cloudharmony.net', 'type': 'satellite'},\n",
    "    '49936325': {'host': 'brazil-south.azure.cloudharmony.net', 'type': 'satellite'},\n",
    "    '49936324': {'host': 'us-east.azure.cloudharmony.net', 'type': 'satellite'},\n",
    "    '49936323': {'host': 'us-east4.gce.cloudharmony.net', 'type': 'satellite'},\n",
    "    '49936322': {'host': 'australia-east.azure.cloudharmony.net', 'type': 'satellite'},\n",
    "    '49936321': {'host': 'us-east-1.ec2.cloudharmony.net', 'type': 'satellite'},\n",
    "}"
   ]
  },
  {
   "cell_type": "code",
   "execution_count": 3,
   "id": "19f956d2",
   "metadata": {},
   "outputs": [],
   "source": [
    "data_centers = {\n",
    "    'australia-east.azure.cloudharmony.net': ('Microsoft', 'OC', 'AU', 'Sydney', -33.8591, 151.2002),\n",
    "    'brazil-south.azure.cloudharmony.net': ('Microsoft', 'SA', 'BR', 'Campinas', -22.9035, -47.0565),\n",
    "    'eu-west-2.ec2.cloudharmony.net': ('Amazon EC2', 'EU', 'GB', 'London', 51.5164, -0.093),\n",
    "    'europe-west2.gce.cloudharmony.net': ('Google', 'EU', 'GB', None, 51.5164, -0.093),\n",
    "    'uk-south.azure.cloudharmony.net': ('Microsoft', 'EU', 'GB', 'London', 51.5164, -0.093),\n",
    "    'ap-east-1.ec2.cloudharmony.net': ('Amazon EC2', 'AS', 'HK', 'Hong Kong', 22.25, 114.1667),\n",
    "    'asia-east2.gce.cloudharmony.net': ('Google', 'AS', 'HK', 'Central', 22.2795, 114.146),\n",
    "    'asia-east.azure.cloudharmony.net': ('Microsoft', 'AS', 'HK', 'Central', 22.2795, 114.146),\n",
    "    'us-east-1.ec2.cloudharmony.net': ('Amazon EC2', 'NA', 'US', 'Ashburn', 39.0481, -77.4728),\n",
    "    'us-east4.gce.cloudharmony.net': ('Google', 'NA', 'US', 'Washington', 38.8939, -77.0365),\n",
    "    'us-east.azure.cloudharmony.net': ('Microsoft', 'NA', 'US', 'Washington', 38.7095, -78.1539),\n",
    "}\n",
    "\n",
    "def get_continent(id_list):\n",
    "    continents = {}\n",
    "    for id in id_list:\n",
    "        continent = data_centers[ids[id]['host']][1]\n",
    "        continents[id] = continent\n",
    "    return continents"
   ]
  },
  {
   "cell_type": "code",
   "execution_count": 4,
   "id": "128b9ed4",
   "metadata": {},
   "outputs": [
    {
     "name": "stdout",
     "output_type": "stream",
     "text": [
      "Cellular continents: {'49936174': 'NA', '49936173': 'AS', '49936172': 'AS', '49936171': 'AS', '49936170': 'EU', '49936169': 'EU', '49936168': 'EU', '49936167': 'SA', '49936166': 'NA', '49936165': 'NA', '49936164': 'OC'}\n",
      "WiFi continents: {'49936078': 'NA', '49936077': 'AS', '49936076': 'AS', '49936075': 'AS', '49936074': 'EU', '49936073': 'EU', '49936072': 'EU', '49936071': 'SA', '49936070': 'NA', '49936069': 'NA', '49936068': 'OC'}\n",
      "LAN continents: {'49936004': 'NA', '49936003': 'AS', '49936002': 'AS', '49936001': 'AS', '49936000': 'EU', '49935999': 'EU', '49935998': 'EU', '49935997': 'SA', '49935996': 'OC', '49935995': 'NA', '49935994': 'NA'}\n",
      "Satellite continents: {'49936331': 'AS', '49936330': 'AS', '49936329': 'AS', '49936328': 'EU', '49936327': 'EU', '49936326': 'EU', '49936325': 'SA', '49936324': 'NA', '49936323': 'NA', '49936322': 'OC', '49936321': 'NA'}\n"
     ]
    }
   ],
   "source": [
    "cellular_ids =  [key for key, value in ids.items() if value['type'] == 'cellular']\n",
    "wifi_ids = [key for key, value in ids.items() if value['type'] == 'wifi']\n",
    "lan_ids = [key for key, value in ids.items() if value['type'] == 'lan']\n",
    "satellite_ids = [key for key, value in ids.items() if value['type'] == 'satellite']\n",
    "\n",
    "cellular_continents = get_continent(cellular_ids)\n",
    "wifi_continents = get_continent(wifi_ids)\n",
    "lan_continents = get_continent(lan_ids)\n",
    "satellite_continents = get_continent(satellite_ids)\n",
    "\n",
    "print('Cellular continents:', cellular_continents)\n",
    "print('WiFi continents:', wifi_continents)\n",
    "print('LAN continents:', lan_continents)\n",
    "print('Satellite continents:', satellite_continents)"
   ]
  },
  {
   "cell_type": "code",
   "execution_count": 5,
   "id": "5e754b2d",
   "metadata": {},
   "outputs": [],
   "source": [
    "def request_data(measurement_id):\n",
    "    # The URL to reach the measurement\n",
    "    url = f\"https://atlas.ripe.net/api/v2/measurements/{measurement_id}/results/?start=1676221335&stop=1676825715&format=json\"\n",
    "\n",
    "    # Make a request to the RIPE Atlas API to get the measurement results\n",
    "    response = requests.get(url)\n",
    "    data = json.loads(response.content)\n",
    "    return data"
   ]
  },
  {
   "cell_type": "code",
   "execution_count": 6,
   "id": "995367cf",
   "metadata": {},
   "outputs": [
    {
     "name": "stdout",
     "output_type": "stream",
     "text": [
      "Cellular latencies: {'NA': 146.71602534240284, 'AS': 261.82164701576187, 'EU': 86.93912543681354, 'SA': 257.52121165429764, 'OC': 273.7464257859145}\n",
      "Lan latencies: {'NA': 125.47151408556297, 'AS': 235.1113603041158, 'EU': 69.86140579480423, 'SA': 228.8323872339641, 'OC': 226.84873992809582}\n",
      "Wifi latencies: {'NA': 112.7824887682643, 'AS': 232.85973757742684, 'EU': 62.33581347758286, 'SA': 214.63058183631335, 'OC': 249.49224160597174}\n",
      "Satellite latencies: {'AS': 250.04340564138607, 'EU': 129.70404223865933, 'SA': 228.0624505780581, 'NA': 120.9632495046969, 'OC': 112.36289142622479}\n"
     ]
    }
   ],
   "source": [
    "def get_mean_latency(data):\n",
    "    latency_arr = []\n",
    "    for probe in data:        \n",
    "        # Append the latenty data for each probe\n",
    "        latency_arr += [result[\"rtt\"] for result in probe[\"result\"] if 'rtt' in result]\n",
    "        \n",
    "    # Calculate the mean of latencies\n",
    "    mean_latency = sum(latency_arr) / len(latency_arr)  \n",
    "    return mean_latency\n",
    "\n",
    "# Calculate the mean for each type each continent\n",
    "cellular_latencies = {}\n",
    "wifi_latencies = {}\n",
    "lan_latencies = {}\n",
    "satellite_latencies = {}\n",
    "\n",
    "\n",
    "for measurement_id, continent in cellular_continents.items():\n",
    "    data = request_data(measurement_id)\n",
    "    mean_latency = get_mean_latency(data)\n",
    "    cellular_latencies[continent] = mean_latency\n",
    "    \n",
    "for measurement_id, continent in wifi_continents.items():\n",
    "    data = request_data(measurement_id)\n",
    "    mean_latency = get_mean_latency(data)\n",
    "    wifi_latencies[continent] = mean_latency\n",
    "    \n",
    "for measurement_id, continent in lan_continents.items():\n",
    "    data = request_data(measurement_id)\n",
    "    mean_latency = get_mean_latency(data)\n",
    "    lan_latencies[continent] = mean_latency\n",
    "for measurement_id, continent in satellite_continents.items():\n",
    "    data = request_data(measurement_id)\n",
    "    mean_latency = get_mean_latency(data)\n",
    "    satellite_latencies[continent] = mean_latency\n",
    "    \n",
    "print(\"Cellular latencies:\", cellular_latencies)\n",
    "print(\"Lan latencies:\", lan_latencies)\n",
    "print(\"Wifi latencies:\", wifi_latencies)\n",
    "print(\"Satellite latencies:\", satellite_latencies)\n",
    "\n",
    "    "
   ]
  },
  {
   "cell_type": "code",
   "execution_count": 7,
   "id": "1d544b56",
   "metadata": {},
   "outputs": [
    {
     "data": {
      "image/png": "[encoded data removed]",
      "text/plain": [
       "<Figure size 432x288 with 1 Axes>"
      ]
     },
     "metadata": {
      "needs_background": "light"
     },
     "output_type": "display_data"
    },
    {
     "data": {
      "image/png": "[encoded data removed]",
      "text/plain": [
       "<Figure size 432x288 with 1 Axes>"
      ]
     },
     "metadata": {
      "needs_background": "light"
     },
     "output_type": "display_data"
    },
    {
     "data": {
      "image/png": "[encoded data removed]",
      "text/plain": [
       "<Figure size 432x288 with 1 Axes>"
      ]
     },
     "metadata": {
      "needs_background": "light"
     },
     "output_type": "display_data"
    },
    {
     "data": {
      "image/png": "[encoded data removed]",
      "text/plain": [
       "<Figure size 432x288 with 1 Axes>"
      ]
     },
     "metadata": {
      "needs_background": "light"
     },
     "output_type": "display_data"
    }
   ],
   "source": [
    "import matplotlib.pyplot as plt\n",
    "\n",
    "def create_bar_chart_by_continent(latency_dict, latency_type):\n",
    "    plt.bar(latency_dict.keys(), latency_dict.values())\n",
    "    plt.title(f\"{latency_type} Latencies by Continent\")\n",
    "    plt.xlabel(\"Continent\")\n",
    "    plt.ylabel(\"Mean Latency (ms)\")\n",
    "    plt.show()\n",
    "\n",
    "create_bar_chart_by_continent(cellular_latencies, 'Cellular')\n",
    "create_bar_chart_by_continent(lan_latencies, 'LAN')\n",
    "create_bar_chart_by_continent(wifi_latencies, 'WIFI')\n",
    "create_bar_chart_by_continent(satellite_latencies, 'Satellite')"
   ]
  },
  {
   "cell_type": "code",
   "execution_count": 8,
   "id": "f5b83b2a",
   "metadata": {},
   "outputs": [],
   "source": [
    "def plot_latencies_by_continent(cellular, wifi, lan):\n",
    "    for continent in cellular.keys():\n",
    "        fig, ax = plt.subplots()\n",
    "        ax.set_title(f\"Latencies by Technology in {continent}\")\n",
    "        ax.bar(['Cellular', 'WiFi', 'LAN', 'Satellite'], [cellular[continent], wifi[continent], lan[continent], satellite[continent]])\n",
    "        ax.set_ylabel(\"Latency (ms)\")\n",
    "        plt.show()"
   ]
  },
  {
   "cell_type": "code",
   "execution_count": 9,
   "id": "c57d0141",
   "metadata": {
    "scrolled": true
   },
   "outputs": [
    {
     "ename": "TypeError",
     "evalue": "plot_latencies_by_continent() takes 3 positional arguments but 4 were given",
     "output_type": "error",
     "traceback": [
      "\u001b[1;31m---------------------------------------------------------------------------\u001b[0m",
      "\u001b[1;31mTypeError\u001b[0m                                 Traceback (most recent call last)",
      "\u001b[1;32m<ipython-input-9-37db9ed041a0>\u001b[0m in \u001b[0;36m<module>\u001b[1;34m\u001b[0m\n\u001b[1;32m----> 1\u001b[1;33m \u001b[0mplot_latencies_by_continent\u001b[0m\u001b[1;33m(\u001b[0m\u001b[0mcellular_latencies\u001b[0m\u001b[1;33m,\u001b[0m \u001b[0mwifi_latencies\u001b[0m\u001b[1;33m,\u001b[0m \u001b[0mlan_latencies\u001b[0m\u001b[1;33m,\u001b[0m \u001b[0msatellite_latencies\u001b[0m\u001b[1;33m)\u001b[0m\u001b[1;33m\u001b[0m\u001b[1;33m\u001b[0m\u001b[0m\n\u001b[0m",
      "\u001b[1;31mTypeError\u001b[0m: plot_latencies_by_continent() takes 3 positional arguments but 4 were given"
     ]
    }
   ],
   "source": [
    "plot_latencies_by_continent(cellular_latencies, wifi_latencies, lan_latencies, satellite_latencies)"
   ]
  },
  {
   "cell_type": "code",
   "execution_count": null,
   "id": "d53b8c90",
   "metadata": {},
   "outputs": [],
   "source": []
  }
 ],
 "metadata": {
  "kernelspec": {
   "display_name": "Python 3",
   "language": "python",
   "name": "python3"
  },
  "language_info": {
   "codemirror_mode": {
    "name": "ipython",
    "version": 3
   },
   "file_extension": ".py",
   "mimetype": "text/x-python",
   "name": "python",
   "nbconvert_exporter": "python",
   "pygments_lexer": "ipython3",
   "version": "3.8.8"
  }
 },
 "nbformat": 4,
 "nbformat_minor": 5
}
